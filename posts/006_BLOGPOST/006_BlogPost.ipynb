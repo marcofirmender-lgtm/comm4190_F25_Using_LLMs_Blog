{
 "cells": [
  {
   "cell_type": "raw",
   "id": "6047b299-6b21-491d-abe6-3bce1bfe784a",
   "metadata": {},
   "source": [
    "\n",
    "title: \"ChatGPT for Teens\"\n",
    "description: \"OpenAI announces added safety features and parental controls to protect teens.\"\n",
    "author: \"Marco Firmender\"\n",
    "date: \"9/19/2025\"\n",
    "categories:\n",
    "  - News \n",
    "---"
   ]
  },
  {
   "cell_type": "markdown",
   "id": "37e1a8e4-f51b-443c-aa0d-c36c69d22a99",
   "metadata": {},
   "source": [
    "This week, OpenAI announced that it will be launching a new version of ChatGPT - ChatGPT for teens. This version of ChatGPT will incorporate all the useful AI-driven tools ChatGPT has to offer, with an added layer of safety for kids ages 13-17. These features will be centered around preventing young children from becoming dependent on chatbots as therapists, a friend, or a confidante. This announcement comes in light of a recent lawsuit filed against Open-AI in which the parents of Adam Raine claim that ChatGPT pushed their son to commit suicide.\n",
    "\n",
    "AI can become dangerous for young users when they treat the chatbot like a therapist or for emotional support. AI is centered around giving you the best possible answer to your question, and it can put humans in danger when this becomes a conversation about potential harm to oneself. In this case, ChatGPT encouraged the young boy to leave a note with the Chatbot for his family to find. This is the most shocking example out of all the conversations Adam and ChatGPT had. The chatbot did not have malicious intent, but its desire to constantly provide the correct answer led Adam down the wrong path. \n",
    "\n",
    "ChatGPT teen will include features like: \n",
    "\n",
    "- restrict explicit and sexual content and increase protections for minors\n",
    "\n",
    "- age-prediction technology and new safety measures so that teens are routed to an age-appropriate version\n",
    "\n",
    "- The system defaults to the under-18 experience to ensure safety if it cannot verify the user's age.\n",
    "\n",
    "- Parents can link their accounts to teens and set up controls over how ChatGPT responds, including restrictions on content, “blackout hours” (times teens cannot access ChatGPT), and notifications if distress is detected\n",
    "\n",
    "- The system can automatically restrict content in sensitive or potentially dangerous situations, and might contact law enforcement in extreme cases of severe distress\n",
    "\n",
    "In my opinion, these safety features are warranted and essential in an increasingly technological world. Protecting younger, vulnerable users should be the forefront of all \n"
   ]
  }
 ],
 "metadata": {
  "kernelspec": {
   "display_name": "Python 3 (ipykernel)",
   "language": "python",
   "name": "python3"
  },
  "language_info": {
   "codemirror_mode": {
    "name": "ipython",
    "version": 3
   },
   "file_extension": ".py",
   "mimetype": "text/x-python",
   "name": "python",
   "nbconvert_exporter": "python",
   "pygments_lexer": "ipython3",
   "version": "3.10.12"
  }
 },
 "nbformat": 4,
 "nbformat_minor": 5
}
