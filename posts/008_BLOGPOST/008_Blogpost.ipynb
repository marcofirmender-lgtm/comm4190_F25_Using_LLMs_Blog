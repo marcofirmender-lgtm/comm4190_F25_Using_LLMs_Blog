{
 "cells": [
  {
   "cell_type": "raw",
   "id": "d6e782e1-3519-4e19-886f-8e876db12fee",
   "metadata": {},
   "source": [
    "---\n",
    "title: \"The Future of AI? Quantum \"\n",
    "description: \".\"\n",
    "author: \"Marco Firmender\"\n",
    "date: \"9/25/2025\"\n",
    "categories:\n",
    "  - Quantum Computing\n",
    "---"
   ]
  },
  {
   "cell_type": "markdown",
   "id": "6a7de3ce-3fe2-4a28-8125-e3304032302b",
   "metadata": {},
   "source": [
    "This morning I had an interesting conversation about Quantum Computing, so I decided to look into it this afternoon and and here is my knowledge of Quantum Computing and what I have found.\n",
    "\n",
    "\n",
    "At its core, quantum computing is built on qubits instead of classical bits. Unlike a traditional bit that can only be a 0 or a 1, a qubit can exist in a superposition of both states simultaneously. Think of it as spinning a coin—it’s not just heads or tails, but some mixture of both until it’s observed.\n",
    "\n",
    "Additionally, qubits can be entangled, meaning the state of one qubit is directly tied to the state of another, no matter how far apart they are. This interconnectedness allows quantum computers to solve certain problems exponentially faster than classical machines.\n",
    "\n",
    "**Why Quantum Matters**\n",
    "\n",
    "Quantum computing isn’t just “a faster computer.” Instead, it’s a fundamentally different model of computation, best suited for problems that overwhelm even the most advanced supercomputers today. Some key areas where quantum computing could make an impact include:\n",
    "\n",
    "*Cryptography:* Many current encryption systems could be broken by powerful quantum algorithms, spurring the race for “post-quantum” security.\n",
    "\n",
    "*Drug Discovery & Chemistry:* Simulating molecules and chemical reactions at the quantum level could lead to breakthroughs in medicine and materials science.\n",
    "\n",
    "*Optimization:* Quantum algorithms could tackle complex logistical challenges, from global supply chains to traffic flow.\n",
    "\n",
    "*Artificial Intelligence:* Quantum-enhanced machine learning may accelerate training models and uncover insights hidden in massive datasets.\n",
    "\n",
    "**The Challenges Ahead**\n",
    "\n",
    "Quantum computing is still in its early days. Today’s devices, known as Noisy Intermediate-Scale Quantum (NISQ) computers, suffer from instability and high error rates. Qubits are notoriously fragile, losing their quantum state (a problem known as decoherence) due to slightest environmental disturbance. Scaling up to millions of reliable qubits remains one of the field’s greatest engineering challenges.\n",
    "\n",
    "**Looking Forward**\n",
    "\n",
    "Despite these obstacles, progress is accelerating. Tech giants, startups, and research institutions around the world are racing to build practical quantum computers, while governments are investing heavily in quantum research. The future of computing may not completely replace classical systems with quantum ones, but instead create hybrid models, where each is used for what it does best.\n",
    "\n",
    "Quantum computing is no longer the stuff of science fiction. Though it may take years before we see widespread commercial use, the foundations being laid today could redefine industries tomorrow. Much like the birth of classical computing in the 20th century, quantum computing is poised to reshape how we solve problems, create technology, and understand the universe itself."
   ]
  },
  {
   "cell_type": "code",
   "execution_count": null,
   "id": "42f93dbe-c5cb-429d-bf16-2a2e4ea440a0",
   "metadata": {},
   "outputs": [],
   "source": []
  }
 ],
 "metadata": {
  "kernelspec": {
   "display_name": "Python 3 (ipykernel)",
   "language": "python",
   "name": "python3"
  },
  "language_info": {
   "codemirror_mode": {
    "name": "ipython",
    "version": 3
   },
   "file_extension": ".py",
   "mimetype": "text/x-python",
   "name": "python",
   "nbconvert_exporter": "python",
   "pygments_lexer": "ipython3",
   "version": "3.10.12"
  }
 },
 "nbformat": 4,
 "nbformat_minor": 5
}
